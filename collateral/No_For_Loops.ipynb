{
 "cells": [
  {
   "cell_type": "markdown",
   "metadata": {},
   "source": [
    "# Avoiding For-Loops for Performance"
   ]
  },
  {
   "cell_type": "markdown",
   "metadata": {},
   "source": [
    "### Task: Count lines in images\n",
    "Let's consider the following task: We have to count particular lines of 3 dots in images. A pre-processing step gives us matrices indicating where on the image a dot is. Look at the following example to see a single sample. The data is represented by a $5 \\times 5$ matrix."
   ]
  },
  {
   "cell_type": "code",
   "execution_count": 3,
   "metadata": {},
   "outputs": [
    {
     "name": "stdout",
     "output_type": "stream",
     "text": [
      "[[1 0 0 0 1]\n",
      " [0 1 0 1 1]\n",
      " [1 1 1 1 1]\n",
      " [0 0 1 1 1]\n",
      " [0 0 0 0 1]]\n"
     ]
    }
   ],
   "source": [
    "import numpy as np\n",
    "sample = (np.random.random([5,5])>.5).astype(int)\n",
    "print(sample)"
   ]
  },
  {
   "cell_type": "markdown",
   "metadata": {},
   "source": [
    "Let's count the number of diagonals from left to right downwards, E.g. the matrices depicted below have one and three, resp. A line of 4 counts as two possible lines of 3.\n",
    "\n",
    "```\n",
    "0 0 0 0 0      1 0 0 0 0 \n",
    "0 0 1 0 0      0 1 0 1 0\n",
    "0 0 0 1 0      1 0 1 0 1\n",
    "0 0 0 0 1      0 1 0 1 0\n",
    "0 0 0 0 0      0 0 1 0 0 \n",
    "```\n",
    "\n",
    "The naive implementation is pretty straight-forward. Try multiple times to really see that it works:"
   ]
  },
  {
   "cell_type": "code",
   "execution_count": 4,
   "metadata": {},
   "outputs": [
    {
     "name": "stdout",
     "output_type": "stream",
     "text": [
      "Found 3 lines\n"
     ]
    }
   ],
   "source": [
    "sum = 0\n",
    "for r in range(3):\n",
    "    for c in range(3):\n",
    "        if sample[r][c]==1 and sample[r+1][c+1]==1 and sample[r+2][c+2]== 1:\n",
    "            sum += 1\n",
    "print(\"Found %s line%s\" % ((sum, \"s\") if sum>1 else (\"no\", \"\") if sum==0 else (1, \"\")))"
   ]
  },
  {
   "cell_type": "markdown",
   "metadata": {},
   "source": [
    "And as a function to count from a bunch of samples"
   ]
  },
  {
   "cell_type": "code",
   "execution_count": 5,
   "metadata": {},
   "outputs": [],
   "source": [
    "def count_num_samples_with_row_of_3_with_forloop(samples):\n",
    "    sum = 0\n",
    "    for sample in samples:\n",
    "        for r in range(3):\n",
    "            for c in range(3):\n",
    "                if sample[r][c]==1 and sample[r+1][c+1]==1 and sample[r+2][c+2]== 1:\n",
    "                    sum+=1\n",
    "    return sum"
   ]
  },
  {
   "cell_type": "code",
   "execution_count": 6,
   "metadata": {},
   "outputs": [
    {
     "data": {
      "text/plain": [
       "(2000, 5, 5)"
      ]
     },
     "execution_count": 6,
     "metadata": {},
     "output_type": "execute_result"
    }
   ],
   "source": [
    "samples = [(np.random.random([5,5])>.5).astype(int) for i in range(2000)]\n",
    "np.shape(samples)"
   ]
  },
  {
   "cell_type": "code",
   "execution_count": 7,
   "metadata": {},
   "outputs": [
    {
     "name": "stdout",
     "output_type": "stream",
     "text": [
      "Wall time: 14 ms\n"
     ]
    },
    {
     "data": {
      "text/plain": [
       "2277"
      ]
     },
     "execution_count": 7,
     "metadata": {},
     "output_type": "execute_result"
    }
   ],
   "source": [
    "%time count_num_samples_with_row_of_3_with_forloop(samples)"
   ]
  },
  {
   "cell_type": "markdown",
   "metadata": {},
   "source": [
    "On my Mac Pro, that takes about 18 microseconds to execute. I promise you: We can do much better!"
   ]
  },
  {
   "cell_type": "markdown",
   "metadata": {},
   "source": [
    "### Using Vectorization to improve performance"
   ]
  },
  {
   "cell_type": "markdown",
   "metadata": {},
   "source": [
    "The idea for a vector-based algorithm is the following: We can use element-wise product $\\otimes$ (sometimes called *Adamard* product) to detect a row of three - like so:\n",
    "\n",
    "$$\n",
    "\\left( \\begin{array}{ccccc}\n",
    "1 & 0 & 0 & 0 & 0 \\\\\n",
    "0 & 1 & 0 & 1 & 0 \\\\\n",
    "0 & 0 & 1 & 0 & 0 \\\\\n",
    "0 & 1 & 0 & 0 & 1 \\\\\n",
    "0 & 0 & 0 & 0 & 0 \n",
    "\\end{array} \\right)\n",
    "\\otimes\n",
    "\\left( \\begin{array}{ccccc}\n",
    "1 & 0 & 0 & 0 & 0 \\\\\n",
    "0 & 1 & 0 & 0 & 0 \\\\\n",
    "0 & 0 & 1 & 0 & 0 \\\\\n",
    "0 & 0 & 0 & 0 & 0 \\\\\n",
    "0 & 0 & 0 & 0 & 0 \n",
    "\\end{array} \\right)\n",
    "=\n",
    "\\left( \\begin{array}{ccccc}\n",
    "1 & 0 & 0 & 0 & 0 \\\\\n",
    "0 & 1 & 0 & 0 & 0 \\\\\n",
    "0 & 0 & 1 & 0 & 0 \\\\\n",
    "0 & 0 & 0 & 0 & 0 \\\\\n",
    "0 & 0 & 0 & 0 & 0 \n",
    "\\end{array} \\right)\n",
    "$$\n",
    "\n",
    "We're essentially masking out all but three dots. Then we count what's left and then if that's exactly three dots, we have detected a line of three.\n",
    "\n",
    "However, that detects only those lines in the upper left corner. So we need a mask or filter for each of the $9$ possible occurrences of lines of three."
   ]
  },
  {
   "cell_type": "markdown",
   "metadata": {},
   "source": [
    "Here's the filter that detects a line in the upper left corner:"
   ]
  },
  {
   "cell_type": "code",
   "execution_count": 8,
   "metadata": {},
   "outputs": [
    {
     "name": "stdout",
     "output_type": "stream",
     "text": [
      "[[1 0 0 0 0]\n",
      " [0 1 0 0 0]\n",
      " [0 0 1 0 0]\n",
      " [0 0 0 0 0]\n",
      " [0 0 0 0 0]]\n"
     ]
    }
   ],
   "source": [
    "filter1 = np.array([[1, 0, 0, 0, 0],\n",
    "       [0, 1, 0, 0, 0],\n",
    "       [0, 0, 1, 0, 0],\n",
    "       [0, 0, 0, 0, 0],\n",
    "       [0, 0, 0, 0, 0]])\n",
    "print(filter1)"
   ]
  },
  {
   "cell_type": "markdown",
   "metadata": {},
   "source": [
    "#### Shifting with a matrix operator\n",
    "We can produce the other filters by shifting the line to the right and/or down. We achieve that with a little bit of algebra: Multiplying a flattened $25 \\times 1$ representation of the above filter matrix with the below *shifter* matrix of shape $25 \\times 25$ produces a filter for a line that's shifted one step to the right"
   ]
  },
  {
   "cell_type": "code",
   "execution_count": 11,
   "metadata": {},
   "outputs": [
    {
     "name": "stdout",
     "output_type": "stream",
     "text": [
      "[[0 0 0 0 0 0 0 0 0 0 0 0 0 0 0 0 0 0 0 0 0 0 0 0 0]\n",
      " [1 0 0 0 0 0 0 0 0 0 0 0 0 0 0 0 0 0 0 0 0 0 0 0 0]\n",
      " [0 1 0 0 0 0 0 0 0 0 0 0 0 0 0 0 0 0 0 0 0 0 0 0 0]\n",
      " [0 0 1 0 0 0 0 0 0 0 0 0 0 0 0 0 0 0 0 0 0 0 0 0 0]\n",
      " [0 0 0 1 0 0 0 0 0 0 0 0 0 0 0 0 0 0 0 0 0 0 0 0 0]\n",
      " [0 0 0 0 1 0 0 0 0 0 0 0 0 0 0 0 0 0 0 0 0 0 0 0 0]\n",
      " [0 0 0 0 0 1 0 0 0 0 0 0 0 0 0 0 0 0 0 0 0 0 0 0 0]\n",
      " [0 0 0 0 0 0 1 0 0 0 0 0 0 0 0 0 0 0 0 0 0 0 0 0 0]\n",
      " [0 0 0 0 0 0 0 1 0 0 0 0 0 0 0 0 0 0 0 0 0 0 0 0 0]\n",
      " [0 0 0 0 0 0 0 0 1 0 0 0 0 0 0 0 0 0 0 0 0 0 0 0 0]\n",
      " [0 0 0 0 0 0 0 0 0 1 0 0 0 0 0 0 0 0 0 0 0 0 0 0 0]\n",
      " [0 0 0 0 0 0 0 0 0 0 1 0 0 0 0 0 0 0 0 0 0 0 0 0 0]\n",
      " [0 0 0 0 0 0 0 0 0 0 0 1 0 0 0 0 0 0 0 0 0 0 0 0 0]\n",
      " [0 0 0 0 0 0 0 0 0 0 0 0 1 0 0 0 0 0 0 0 0 0 0 0 0]\n",
      " [0 0 0 0 0 0 0 0 0 0 0 0 0 1 0 0 0 0 0 0 0 0 0 0 0]\n",
      " [0 0 0 0 0 0 0 0 0 0 0 0 0 0 1 0 0 0 0 0 0 0 0 0 0]\n",
      " [0 0 0 0 0 0 0 0 0 0 0 0 0 0 0 1 0 0 0 0 0 0 0 0 0]\n",
      " [0 0 0 0 0 0 0 0 0 0 0 0 0 0 0 0 1 0 0 0 0 0 0 0 0]\n",
      " [0 0 0 0 0 0 0 0 0 0 0 0 0 0 0 0 0 1 0 0 0 0 0 0 0]\n",
      " [0 0 0 0 0 0 0 0 0 0 0 0 0 0 0 0 0 0 1 0 0 0 0 0 0]\n",
      " [0 0 0 0 0 0 0 0 0 0 0 0 0 0 0 0 0 0 0 1 0 0 0 0 0]\n",
      " [0 0 0 0 0 0 0 0 0 0 0 0 0 0 0 0 0 0 0 0 1 0 0 0 0]\n",
      " [0 0 0 0 0 0 0 0 0 0 0 0 0 0 0 0 0 0 0 0 0 1 0 0 0]\n",
      " [0 0 0 0 0 0 0 0 0 0 0 0 0 0 0 0 0 0 0 0 0 0 1 0 0]\n",
      " [0 0 0 0 0 0 0 0 0 0 0 0 0 0 0 0 0 0 0 0 0 0 0 1 0]]\n"
     ]
    }
   ],
   "source": [
    "shifter = np.vstack ([np.zeros(25, dtype=int), np.eye(25, dtype=int)])[:-1,:]\n",
    "print(shifter)"
   ]
  },
  {
   "cell_type": "code",
   "execution_count": 12,
   "metadata": {},
   "outputs": [
    {
     "data": {
      "text/plain": [
       "array([[0, 1, 0, 0, 0],\n",
       "       [0, 0, 1, 0, 0],\n",
       "       [0, 0, 0, 1, 0],\n",
       "       [0, 0, 0, 0, 0],\n",
       "       [0, 0, 0, 0, 0]])"
      ]
     },
     "execution_count": 12,
     "metadata": {},
     "output_type": "execute_result"
    }
   ],
   "source": [
    "np.matmul(shifter, filter1.flatten()).reshape([5,5])"
   ]
  },
  {
   "cell_type": "markdown",
   "metadata": {},
   "source": [
    "Ain't that cool?\n",
    "\n",
    "Note that this approach *wastes* memory, but software architecture is about trade-offs. And we're trading off memory for compute times in this exercise. However, the above calculations are only been done once to prepare the tools for the real work. When it comes to processing the $2000$ samples above, we'll be avoiding every cost in compute time and be careful with memory, too. In reality, there might be millions and billions of records to process. So, this exercise is worth the effort."
   ]
  },
  {
   "cell_type": "markdown",
   "metadata": {},
   "source": [
    "### 9 differently positioned filters"
   ]
  },
  {
   "cell_type": "code",
   "execution_count": 13,
   "metadata": {},
   "outputs": [],
   "source": [
    "filters = np.zeros([25,25], dtype=int)"
   ]
  },
  {
   "cell_type": "markdown",
   "metadata": {},
   "source": [
    "In the below code, we create an array of filters and call it ```detector```. Each row in the big matrix represents a *flattened* filter for a particular occurence of the diagonal line. Observe that only $9$ of those filters are actually non-zero. That's due to the fact that only $9$ different lines of that kind are possible."
   ]
  },
  {
   "cell_type": "code",
   "execution_count": null,
   "metadata": {},
   "outputs": [],
   "source": []
  },
  {
   "cell_type": "code",
   "execution_count": 14,
   "metadata": {},
   "outputs": [
    {
     "name": "stdout",
     "output_type": "stream",
     "text": [
      "[[1 0 0 0 0 0 1 0 0 0 0 0 1 0 0 0 0 0 0 0 0 0 0 0 0]\n",
      " [0 1 0 0 0 0 0 1 0 0 0 0 0 1 0 0 0 0 0 0 0 0 0 0 0]\n",
      " [0 0 1 0 0 0 0 0 1 0 0 0 0 0 1 0 0 0 0 0 0 0 0 0 0]\n",
      " [0 0 0 0 0 1 0 0 0 0 0 1 0 0 0 0 0 1 0 0 0 0 0 0 0]\n",
      " [0 0 0 0 0 0 1 0 0 0 0 0 1 0 0 0 0 0 1 0 0 0 0 0 0]\n",
      " [0 0 0 0 0 0 0 1 0 0 0 0 0 1 0 0 0 0 0 1 0 0 0 0 0]\n",
      " [0 0 0 0 0 0 0 0 0 0 1 0 0 0 0 0 1 0 0 0 0 0 1 0 0]\n",
      " [0 0 0 0 0 0 0 0 0 0 0 1 0 0 0 0 0 1 0 0 0 0 0 1 0]\n",
      " [0 0 0 0 0 0 0 0 0 0 0 0 1 0 0 0 0 0 1 0 0 0 0 0 1]]\n"
     ]
    }
   ],
   "source": [
    "shifter = np.vstack ([np.zeros(25, dtype=int), np.eye(25, dtype=int)])[:-1,:]\n",
    "\n",
    "def create_detector(f):\n",
    "    f = f.flatten()\n",
    "    detector = np.zeros([9,25], dtype=int)\n",
    "\n",
    "    # These nine shifts produce all our filters\n",
    "    for i, s in enumerate([0,1,2, 5,6,7, 10,11,12]):\n",
    "        detector[i] = np.matmul (np.linalg.matrix_power(shifter, s), f)\n",
    "    return detector\n",
    "\n",
    "filter1 = np.array([\n",
    "    [1, 0, 0, 0, 0],\n",
    "    [0, 1, 0, 0, 0],\n",
    "    [0, 0, 1, 0, 0],\n",
    "    [0, 0, 0, 0, 0],\n",
    "    [0, 0, 0, 0, 0]])        \n",
    "\n",
    "detector = create_detector(filter1)\n",
    "\n",
    "print(detector)"
   ]
  },
  {
   "cell_type": "markdown",
   "metadata": {},
   "source": [
    "The below code returns all positions with a count of $3$ as a pair of lists of row indexes and column indexes:"
   ]
  },
  {
   "cell_type": "code",
   "execution_count": 15,
   "metadata": {},
   "outputs": [],
   "source": [
    "def find_rows_of_3(sample):\n",
    "    return np.where((np.matmul(detector, sample.flatten()) == 3))[0]"
   ]
  },
  {
   "cell_type": "markdown",
   "metadata": {},
   "source": [
    "The below code returns all the (*flattened*) positions of diagonals. Try a couple of samples to verify the detector's capabilities."
   ]
  },
  {
   "cell_type": "code",
   "execution_count": 19,
   "metadata": {},
   "outputs": [
    {
     "name": "stdout",
     "output_type": "stream",
     "text": [
      "[[0 0 1 1 0]\n",
      " [0 1 0 0 0]\n",
      " [0 1 0 1 1]\n",
      " [0 1 1 0 0]\n",
      " [0 1 1 1 0]]\n"
     ]
    },
    {
     "data": {
      "text/plain": [
       "array([7], dtype=int64)"
      ]
     },
     "execution_count": 19,
     "metadata": {},
     "output_type": "execute_result"
    }
   ],
   "source": [
    "sample = (np.random.random([5,5])>.5).astype(int)\n",
    "print(sample)\n",
    "find_rows_of_3(sample)"
   ]
  },
  {
   "cell_type": "markdown",
   "metadata": {},
   "source": [
    "### Processing the entire batch"
   ]
  },
  {
   "cell_type": "code",
   "execution_count": 20,
   "metadata": {},
   "outputs": [
    {
     "data": {
      "text/plain": [
       "(2000, 5, 5)"
      ]
     },
     "execution_count": 20,
     "metadata": {},
     "output_type": "execute_result"
    }
   ],
   "source": [
    "np.shape(samples)"
   ]
  },
  {
   "cell_type": "code",
   "execution_count": 21,
   "metadata": {},
   "outputs": [
    {
     "data": {
      "text/plain": [
       "array([[1, 0, 1, 0, 0],\n",
       "       [0, 0, 1, 0, 0],\n",
       "       [1, 0, 1, 1, 0],\n",
       "       [1, 0, 0, 1, 0],\n",
       "       [1, 1, 1, 0, 0]])"
      ]
     },
     "execution_count": 21,
     "metadata": {},
     "output_type": "execute_result"
    }
   ],
   "source": [
    "samples[0]"
   ]
  },
  {
   "cell_type": "code",
   "execution_count": 22,
   "metadata": {},
   "outputs": [],
   "source": [
    "def count_num_rows_of_3(samples):\n",
    "    return np.sum([find_rows_of_3(sample).size for sample in samples])"
   ]
  },
  {
   "cell_type": "code",
   "execution_count": 26,
   "metadata": {},
   "outputs": [
    {
     "name": "stdout",
     "output_type": "stream",
     "text": [
      "Wall time: 6.93 ms\n"
     ]
    },
    {
     "data": {
      "text/plain": [
       "2277"
      ]
     },
     "execution_count": 26,
     "metadata": {},
     "output_type": "execute_result"
    }
   ],
   "source": [
    "%time count_num_rows_of_3(samples)"
   ]
  },
  {
   "cell_type": "markdown",
   "metadata": {},
   "source": [
    "Depending on your machine it could be a little faster or even slower than the naive implementation. So that's a bit dissapointing. But wait: There's still the loop over the 2000 samples that we can avoid. Let's try that. \n",
    "\n",
    "In the below function we're multiplying the entire batch of samples with dimensions $2000 \\times 25$ by the detector matrix of dimension $25 \\times 25$ in a single go, then count the number of values $3$ in the resulting $2000 \\times 25$ matrix"
   ]
  },
  {
   "cell_type": "code",
   "execution_count": 27,
   "metadata": {},
   "outputs": [],
   "source": [
    "def count_num_samples_with_row_of_3_better(samples):\n",
    "    all_reshaped = np.reshape(samples, [2000, 25])\n",
    "    all_checked = np.matmul(detector, np.transpose(all_reshaped))\n",
    "    return np.sum(all_checked==3)"
   ]
  },
  {
   "cell_type": "code",
   "execution_count": 30,
   "metadata": {},
   "outputs": [
    {
     "name": "stdout",
     "output_type": "stream",
     "text": [
      "Wall time: 2 ms\n"
     ]
    },
    {
     "data": {
      "text/plain": [
       "2277"
      ]
     },
     "execution_count": 30,
     "metadata": {},
     "output_type": "execute_result"
    }
   ],
   "source": [
    "%time count_num_samples_with_row_of_3_better(samples)"
   ]
  },
  {
   "cell_type": "markdown",
   "metadata": {},
   "source": [
    "Or in an unprofessional fashion - in a single line of code!"
   ]
  },
  {
   "cell_type": "code",
   "execution_count": 31,
   "metadata": {},
   "outputs": [
    {
     "data": {
      "text/plain": [
       "2277"
      ]
     },
     "execution_count": 31,
     "metadata": {},
     "output_type": "execute_result"
    }
   ],
   "source": [
    "np.sum(np.matmul(detector, np.transpose(np.reshape(samples, [2000, 25])))==3)"
   ]
  },
  {
   "cell_type": "markdown",
   "metadata": {},
   "source": [
    "On my Mac Pro that usually stays significantly below 3ms. That's a massive improvement. Note that the result stems from the fact that there's no longer a forth-and-back between scripting and computation. All computations are basically done in only two steps. The numpy library hands over the entire matrices in a single go to the CPU infrastructure where the hard work is done. \n",
    "\n",
    "Note that if you want to get more reliable performance figures you should resort to using ```%timeit``` instead, which calls the function a number of time to come back with reasonably sized statistics. "
   ]
  },
  {
   "cell_type": "code",
   "execution_count": 32,
   "metadata": {},
   "outputs": [
    {
     "name": "stdout",
     "output_type": "stream",
     "text": [
      "926 µs ± 4.64 µs per loop (mean ± std. dev. of 7 runs, 1000 loops each)\n"
     ]
    }
   ],
   "source": [
    "%timeit count_num_samples_with_row_of_3_better(samples)"
   ]
  },
  {
   "cell_type": "markdown",
   "metadata": {},
   "source": [
    "### Caveats\n",
    "Vectorized code is much less readable than procedural code. It's a trade-off that we can make easier by providing extensive documentation of what is actually meant by the algebraic expression we're using. Keep that in mind if you want to avoid situations where you find yourself unable to comprehend some code that you've written your self just the day before!"
   ]
  },
  {
   "cell_type": "markdown",
   "metadata": {},
   "source": [
    "### Want some more?\n",
    "What you've seen here is indeed not so special. The above matrix multiplication is exactly what a convolutional neural network does. Only it doesn't typically come with fixed parameters but it learns the parameters during training. \n",
    "\n",
    "For your own enlightenment you may want to add more filters to also recognize vertical and horizontal lines. "
   ]
  },
  {
   "cell_type": "code",
   "execution_count": null,
   "metadata": {},
   "outputs": [],
   "source": []
  }
 ],
 "metadata": {
  "kernelspec": {
   "display_name": "Python 3",
   "language": "python",
   "name": "python3"
  },
  "language_info": {
   "codemirror_mode": {
    "name": "ipython",
    "version": 3
   },
   "file_extension": ".py",
   "mimetype": "text/x-python",
   "name": "python",
   "nbconvert_exporter": "python",
   "pygments_lexer": "ipython3",
   "version": "3.7.3"
  }
 },
 "nbformat": 4,
 "nbformat_minor": 2
}
