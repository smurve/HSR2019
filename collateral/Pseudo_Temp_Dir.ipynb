{
 "cells": [
  {
   "cell_type": "markdown",
   "metadata": {},
   "source": [
    "### Workaround\n",
    "This little trick provides a workaround, if Beam_Pipelines.ipynb does not work in your environment. Alternative input files for the other notebooks are already provided in the ```temp``` directory one directory up from here (```../temp``` on Unix)."
   ]
  },
  {
   "cell_type": "code",
   "execution_count": 7,
   "metadata": {},
   "outputs": [
    {
     "name": "stdout",
     "output_type": "stream",
     "text": [
      "eval.tfr-00000-of-00001\n",
      "training.tfr-00000-of-00001\n"
     ]
    }
   ],
   "source": [
    "import os\n",
    "with open('temp_dir.txt', 'w') as file:\n",
    "    temp_dir = os.path.join(\"..\", \"temp\")\n",
    "    file.write(temp_dir)\n",
    "temp_dir = !cat temp_dir.txt\n",
    "temp_dir = temp_dir[0]\n",
    "!ls $temp_dir"
   ]
  },
  {
   "cell_type": "code",
   "execution_count": null,
   "metadata": {},
   "outputs": [],
   "source": []
  }
 ],
 "metadata": {
  "kernelspec": {
   "display_name": "Python 3",
   "language": "python",
   "name": "python3"
  },
  "language_info": {
   "codemirror_mode": {
    "name": "ipython",
    "version": 3
   },
   "file_extension": ".py",
   "mimetype": "text/x-python",
   "name": "python",
   "nbconvert_exporter": "python",
   "pygments_lexer": "ipython3",
   "version": "3.7.3"
  }
 },
 "nbformat": 4,
 "nbformat_minor": 2
}
