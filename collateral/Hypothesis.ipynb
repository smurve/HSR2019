{
 "cells": [
  {
   "cell_type": "code",
   "execution_count": 1,
   "metadata": {},
   "outputs": [
    {
     "data": {
      "text/plain": [
       "'1.13.1'"
      ]
     },
     "execution_count": 1,
     "metadata": {},
     "output_type": "execute_result"
    }
   ],
   "source": [
    "from training_functions import make_tfr_input_fn\n",
    "import tensorflow as tf\n",
    "tf.__version__"
   ]
  },
  {
   "cell_type": "markdown",
   "metadata": {},
   "source": [
    "Take the file pattern from [Beam_Pipelines.ipynb](Beam_Pipelines.ipynb):"
   ]
  },
  {
   "cell_type": "code",
   "execution_count": 2,
   "metadata": {},
   "outputs": [
    {
     "data": {
      "text/plain": [
       "'/tmp/tmph9buhgd2/training.tfr-*'"
      ]
     },
     "execution_count": 2,
     "metadata": {},
     "output_type": "execute_result"
    }
   ],
   "source": [
    "with open('temp_dir.txt') as file:\n",
    "    temp_dir = file.read()\n",
    "import os\n",
    "file_pattern = os.path.join(temp_dir, \"training.tfr-*\")\n",
    "file_pattern"
   ]
  },
  {
   "cell_type": "markdown",
   "metadata": {},
   "source": [
    "When we call ```train_input_fn```, we'll get a tensor that iterates through the training files and gets a new batch of records out of it each time it is being evaluated. In the end we will pass ```train_input_fn``` to the estimator, so that it can create the computational graph for the input stream within its own session and graph context."
   ]
  },
  {
   "cell_type": "code",
   "execution_count": 3,
   "metadata": {},
   "outputs": [],
   "source": [
    "train_input_fn = make_tfr_input_fn(\n",
    "    filename_pattern=file_pattern,\n",
    "    batch_size=1000, \n",
    "    options={'num_epochs': None,  # repeat infinitely\n",
    "             'shuffle_buffer_size': 1000,\n",
    "             'prefetch_buffer_size': 1000,\n",
    "             'reader_num_threads': 10,\n",
    "             'parser_num_threads': 10,\n",
    "             'sloppy_ordering': True,\n",
    "             'distribute': False})"
   ]
  },
  {
   "cell_type": "markdown",
   "metadata": {},
   "source": [
    "---\n",
    "Here, we take the tensors that provide the input stream and create an input layer from it, like described in detail in [Input_Functions.ipynb](Input_Functions.ipynb). Then we create a single ```Dense``` layer, that in essence provides the hypothesis function - a linear regression model for predicting the humidity from the the full $170$-dimensional input:\n",
    "\n",
    "$$\n",
    "h(\\beta_1, \\beta_2, \\vartheta_1, \\vartheta_2, \\dots, \\vartheta_{168} ) \n",
    "= (A_1, A_2, B_1, B_2, \\dots, B_{168}) \\cdot\n",
    "\\left( \n",
    "\\begin {array} {c}\n",
    "\\beta_1 \\\\\n",
    "\\beta_2 \\\\\n",
    "\\vartheta_1 \\\\\n",
    "\\vartheta_2 \\\\\n",
    "\\dots \\\\\n",
    "\\vartheta_{168} \n",
    "\\end{array}\n",
    "\\right) + C\n",
    "$$\n",
    "\n",
    "$\\vartheta_i$ are the components of the one-hot encoded $168$-dimensional vector for the hour-of-the-week."
   ]
  },
  {
   "cell_type": "code",
   "execution_count": 4,
   "metadata": {},
   "outputs": [
    {
     "name": "stdout",
     "output_type": "stream",
     "text": [
      "WARNING:tensorflow:From /home/wgiersche/workspace/HSR2019/venv/lib/python3.6/site-packages/tensorflow/python/feature_column/feature_column.py:205: NumericColumn._get_dense_tensor (from tensorflow.python.feature_column.feature_column_v2) is deprecated and will be removed after 2018-11-30.\n",
      "Instructions for updating:\n",
      "The old _FeatureColumn APIs are being deprecated. Please use the new FeatureColumn APIs instead.\n",
      "WARNING:tensorflow:From /home/wgiersche/workspace/HSR2019/venv/lib/python3.6/site-packages/tensorflow/python/feature_column/feature_column.py:2121: NumericColumn._transform_feature (from tensorflow.python.feature_column.feature_column_v2) is deprecated and will be removed after 2018-11-30.\n",
      "Instructions for updating:\n",
      "The old _FeatureColumn APIs are being deprecated. Please use the new FeatureColumn APIs instead.\n",
      "WARNING:tensorflow:From /home/wgiersche/workspace/HSR2019/venv/lib/python3.6/site-packages/tensorflow/python/feature_column/feature_column_v2.py:2703: to_float (from tensorflow.python.ops.math_ops) is deprecated and will be removed in a future version.\n",
      "Instructions for updating:\n",
      "Use tf.cast instead.\n",
      "WARNING:tensorflow:From /home/wgiersche/workspace/HSR2019/venv/lib/python3.6/site-packages/tensorflow/python/feature_column/feature_column.py:206: NumericColumn._variable_shape (from tensorflow.python.feature_column.feature_column_v2) is deprecated and will be removed after 2018-11-30.\n",
      "Instructions for updating:\n",
      "The old _FeatureColumn APIs are being deprecated. Please use the new FeatureColumn APIs instead.\n",
      "WARNING:tensorflow:From /home/wgiersche/workspace/HSR2019/venv/lib/python3.6/site-packages/tensorflow/python/feature_column/feature_column.py:205: IndicatorColumn._get_dense_tensor (from tensorflow.python.feature_column.feature_column_v2) is deprecated and will be removed after 2018-11-30.\n",
      "Instructions for updating:\n",
      "The old _FeatureColumn APIs are being deprecated. Please use the new FeatureColumn APIs instead.\n",
      "WARNING:tensorflow:From /home/wgiersche/workspace/HSR2019/venv/lib/python3.6/site-packages/tensorflow/python/feature_column/feature_column.py:2121: IndicatorColumn._transform_feature (from tensorflow.python.feature_column.feature_column_v2) is deprecated and will be removed after 2018-11-30.\n",
      "Instructions for updating:\n",
      "The old _FeatureColumn APIs are being deprecated. Please use the new FeatureColumn APIs instead.\n",
      "WARNING:tensorflow:From /home/wgiersche/workspace/HSR2019/venv/lib/python3.6/site-packages/tensorflow/python/feature_column/feature_column_v2.py:4295: CrossedColumn._get_sparse_tensors (from tensorflow.python.feature_column.feature_column_v2) is deprecated and will be removed after 2018-11-30.\n",
      "Instructions for updating:\n",
      "The old _FeatureColumn APIs are being deprecated. Please use the new FeatureColumn APIs instead.\n",
      "WARNING:tensorflow:From /home/wgiersche/workspace/HSR2019/venv/lib/python3.6/site-packages/tensorflow/python/feature_column/feature_column.py:2121: CrossedColumn._transform_feature (from tensorflow.python.feature_column.feature_column_v2) is deprecated and will be removed after 2018-11-30.\n",
      "Instructions for updating:\n",
      "The old _FeatureColumn APIs are being deprecated. Please use the new FeatureColumn APIs instead.\n",
      "WARNING:tensorflow:From /home/wgiersche/workspace/HSR2019/venv/lib/python3.6/site-packages/tensorflow/python/feature_column/feature_column_v2.py:4115: IdentityCategoricalColumn._get_sparse_tensors (from tensorflow.python.feature_column.feature_column_v2) is deprecated and will be removed after 2018-11-30.\n",
      "Instructions for updating:\n",
      "The old _FeatureColumn APIs are being deprecated. Please use the new FeatureColumn APIs instead.\n",
      "WARNING:tensorflow:From /home/wgiersche/workspace/HSR2019/venv/lib/python3.6/site-packages/tensorflow/python/feature_column/feature_column.py:2121: IdentityCategoricalColumn._transform_feature (from tensorflow.python.feature_column.feature_column_v2) is deprecated and will be removed after 2018-11-30.\n",
      "Instructions for updating:\n",
      "The old _FeatureColumn APIs are being deprecated. Please use the new FeatureColumn APIs instead.\n",
      "WARNING:tensorflow:From /home/wgiersche/workspace/HSR2019/venv/lib/python3.6/site-packages/tensorflow/python/feature_column/feature_column_v2.py:3828: to_int64 (from tensorflow.python.ops.math_ops) is deprecated and will be removed in a future version.\n",
      "Instructions for updating:\n",
      "Use tf.cast instead.\n",
      "WARNING:tensorflow:From /home/wgiersche/workspace/HSR2019/venv/lib/python3.6/site-packages/tensorflow/python/ops/control_flow_ops.py:3632: colocate_with (from tensorflow.python.framework.ops) is deprecated and will be removed in a future version.\n",
      "Instructions for updating:\n",
      "Colocations handled automatically by placer.\n",
      "WARNING:tensorflow:From /home/wgiersche/workspace/HSR2019/venv/lib/python3.6/site-packages/tensorflow/python/feature_column/feature_column_v2.py:4266: IndicatorColumn._variable_shape (from tensorflow.python.feature_column.feature_column_v2) is deprecated and will be removed after 2018-11-30.\n",
      "Instructions for updating:\n",
      "The old _FeatureColumn APIs are being deprecated. Please use the new FeatureColumn APIs instead.\n",
      "WARNING:tensorflow:From /home/wgiersche/workspace/HSR2019/venv/lib/python3.6/site-packages/tensorflow/python/feature_column/feature_column_v2.py:4321: CrossedColumn._num_buckets (from tensorflow.python.feature_column.feature_column_v2) is deprecated and will be removed after 2018-11-30.\n",
      "Instructions for updating:\n",
      "The old _FeatureColumn APIs are being deprecated. Please use the new FeatureColumn APIs instead.\n"
     ]
    }
   ],
   "source": [
    "from training_functions import input_layer\n",
    "features, measured_humidity = train_input_fn()\n",
    "my_input_layer = input_layer(features)\n",
    "\n",
    "linreg = tf.layers.Dense(name=\"LinReg\", units=1)\n",
    "hypothesis=linreg(my_input_layer)"
   ]
  },
  {
   "cell_type": "code",
   "execution_count": 5,
   "metadata": {},
   "outputs": [
    {
     "data": {
      "text/plain": [
       "(<tf.Tensor 'input_layer/concat:0' shape=(1000, 170) dtype=float32>,\n",
       " <tf.Tensor 'LinReg/BiasAdd:0' shape=(1000, 1) dtype=float32>)"
      ]
     },
     "execution_count": 5,
     "metadata": {},
     "output_type": "execute_result"
    }
   ],
   "source": [
    "my_input_layer, hypothesis"
   ]
  },
  {
   "cell_type": "markdown",
   "metadata": {},
   "source": [
    "When we evaluate the hypothesis, the computational graph will now *magically* draw on batch of 1000 records from the given input file, pass it through to the hypothesis function to arrive at 1000 1-dimensional predicions - one prediction for each of the records in the current batch."
   ]
  },
  {
   "cell_type": "code",
   "execution_count": 6,
   "metadata": {},
   "outputs": [],
   "source": [
    "init = tf.global_variables_initializer()\n",
    "with tf.Session() as sess:\n",
    "    sess.run(init)\n",
    "    out1 = sess.run(hypothesis)"
   ]
  },
  {
   "cell_type": "code",
   "execution_count": 7,
   "metadata": {},
   "outputs": [
    {
     "data": {
      "text/plain": [
       "(1000, 1)"
      ]
     },
     "execution_count": 7,
     "metadata": {},
     "output_type": "execute_result"
    }
   ],
   "source": [
    "out1.shape"
   ]
  },
  {
   "cell_type": "markdown",
   "metadata": {},
   "source": [
    "---\n",
    "We can actually see the variables used in the ```Dense``` layer used in the hyptothesis:"
   ]
  },
  {
   "cell_type": "code",
   "execution_count": 8,
   "metadata": {},
   "outputs": [],
   "source": [
    "variables = hypothesis.graph.get_collection(tf.GraphKeys.TRAINABLE_VARIABLES)\n",
    "kernel, bias = variables[:2]"
   ]
  },
  {
   "cell_type": "code",
   "execution_count": 9,
   "metadata": {},
   "outputs": [
    {
     "data": {
      "text/plain": [
       "array([[ 7.21060634e-02, -8.12691227e-02,  1.57606900e-01,\n",
       "         1.45202696e-01,  1.86905384e-01, -1.50682926e-02,\n",
       "        -1.28155753e-01,  1.62048936e-02,  7.99405277e-02,\n",
       "         1.28622055e-01,  4.66995984e-02,  6.46605194e-02,\n",
       "         1.80307537e-01, -1.34446725e-01,  6.06617033e-02,\n",
       "         2.11353898e-02,  1.82011425e-02,  1.49325728e-02,\n",
       "        -3.98895890e-02, -9.18137729e-02,  1.38460219e-01,\n",
       "        -3.60829979e-02,  1.84319913e-03,  6.66491389e-02],\n",
       "       [-1.19982861e-01,  6.62632287e-02,  1.34526193e-01,\n",
       "         1.74374372e-01,  8.31691027e-02, -5.36248684e-02,\n",
       "        -7.15287998e-02,  7.83839226e-02,  2.34539509e-02,\n",
       "         7.75220692e-02,  1.36721283e-02,  1.06094122e-01,\n",
       "        -1.83888540e-01,  5.01993299e-02, -4.48274612e-02,\n",
       "        -2.90768445e-02, -8.89345929e-02, -3.11541110e-02,\n",
       "         1.68780804e-01,  8.32900405e-02,  1.66250020e-01,\n",
       "        -1.20917372e-01,  9.81023610e-02,  6.15646392e-02],\n",
       "       [ 1.24775320e-02, -1.34404078e-01, -1.24589130e-01,\n",
       "         6.90817833e-05,  5.79667091e-02,  1.05920136e-01,\n",
       "         1.38058633e-01,  1.74567670e-01, -1.00500032e-01,\n",
       "        -8.87030736e-02, -6.50754943e-02,  8.93361270e-02,\n",
       "         1.55440181e-01,  1.23448640e-01, -1.74741253e-01,\n",
       "        -2.51135975e-02, -1.72164693e-01, -1.19497456e-01,\n",
       "         2.07925737e-02, -4.65538353e-02,  1.17513567e-01,\n",
       "         1.71849489e-01,  1.16783828e-02,  6.82577491e-04],\n",
       "       [-1.13219522e-01, -3.00333798e-02,  1.34441406e-02,\n",
       "        -3.71923596e-02,  1.70121104e-01, -7.21641779e-02,\n",
       "        -1.10536359e-01,  1.65440261e-01, -7.42769018e-02,\n",
       "         8.37260485e-02,  1.72292829e-01,  1.63663000e-01,\n",
       "        -4.55928296e-02, -5.87066710e-02, -4.51985002e-03,\n",
       "        -7.89337233e-02, -4.92794812e-03, -8.94837081e-03,\n",
       "        -6.86059445e-02,  6.90750182e-02, -7.09822997e-02,\n",
       "         8.33909214e-02,  1.34497643e-01,  7.49488175e-02],\n",
       "       [-1.81727707e-01, -5.74233383e-02, -2.39171535e-02,\n",
       "         1.51699126e-01,  1.53625548e-01, -4.79036719e-02,\n",
       "         1.81612343e-01, -1.80860013e-02, -1.76730007e-01,\n",
       "        -1.28982663e-02,  8.64701271e-02,  3.25622410e-02,\n",
       "         4.99738455e-02, -1.21048182e-01, -5.42354584e-03,\n",
       "        -5.55094779e-02,  1.22437775e-02, -3.95014882e-04,\n",
       "        -1.32246599e-01,  1.28070801e-01,  7.18129575e-02,\n",
       "        -1.20199330e-01,  9.31756198e-02, -4.43335623e-02],\n",
       "       [ 4.66156751e-02, -7.57741705e-02, -1.19029954e-01,\n",
       "        -4.86947298e-02,  3.93845290e-02,  1.04423761e-01,\n",
       "         1.62605226e-01,  1.03422791e-01,  9.61229205e-02,\n",
       "         8.20674002e-03, -5.85696101e-02, -4.89552766e-02,\n",
       "         1.00169986e-01, -1.84814155e-01,  8.69155526e-02,\n",
       "         9.58527327e-02,  1.28993809e-01, -1.07332058e-01,\n",
       "        -6.94841817e-02,  1.32235974e-01, -6.31447583e-02,\n",
       "        -5.72422743e-02, -1.21942855e-01,  1.62189484e-01],\n",
       "       [ 6.77677989e-03, -5.43840080e-02,  8.82227123e-02,\n",
       "        -1.38807297e-03,  1.03657573e-01, -2.40906626e-02,\n",
       "         5.84140271e-02, -9.13946852e-02, -1.64928317e-01,\n",
       "         5.55054098e-02,  1.27368033e-01, -9.90209803e-02,\n",
       "         8.07635784e-02,  1.39675021e-01, -3.83144766e-02,\n",
       "         1.37040257e-01, -1.42130867e-01, -6.36371300e-02,\n",
       "         1.71607107e-01,  6.60167933e-02,  4.29432988e-02,\n",
       "         1.72269344e-02,  6.97274506e-02,  1.72537923e-01]], dtype=float32)"
      ]
     },
     "execution_count": 9,
     "metadata": {},
     "output_type": "execute_result"
    }
   ],
   "source": [
    "with tf.Session() as sess:\n",
    "    sess.run(init)\n",
    "    A170 = sess.run(kernel)\n",
    "A170[2:].reshape([7,24])"
   ]
  },
  {
   "cell_type": "markdown",
   "metadata": {},
   "source": [
    "---\n",
    "Now, we can manually adjust these parameters such that the predictions of the hypothesis are as close as possible to the humidity values that have actually been measured. For that, we compute the sum of the squared differences between each prediction and the measured humidity. "
   ]
  },
  {
   "cell_type": "code",
   "execution_count": 10,
   "metadata": {},
   "outputs": [
    {
     "data": {
      "text/plain": [
       "(<tf.Tensor 'IteratorGetNext:4' shape=(1000, 1) dtype=float32>,\n",
       " <tf.Tensor 'LinReg/BiasAdd:0' shape=(1000, 1) dtype=float32>)"
      ]
     },
     "execution_count": 10,
     "metadata": {},
     "output_type": "execute_result"
    }
   ],
   "source": [
    "measured_humidity, hypothesis"
   ]
  },
  {
   "cell_type": "code",
   "execution_count": 11,
   "metadata": {},
   "outputs": [
    {
     "data": {
      "text/plain": [
       "<tf.Tensor 'Mean:0' shape=() dtype=float32>"
      ]
     },
     "execution_count": 11,
     "metadata": {},
     "output_type": "execute_result"
    }
   ],
   "source": [
    "loss = tf.reduce_mean((hypothesis-measured_humidity)**2)\n",
    "loss"
   ]
  },
  {
   "cell_type": "markdown",
   "metadata": {},
   "source": [
    "One of the strengths of using an ML framework is that it usually provides means to easily compute gradients. With Tensorflow, it's as easy as the following:"
   ]
  },
  {
   "cell_type": "code",
   "execution_count": 12,
   "metadata": {},
   "outputs": [],
   "source": [
    "grad_k, grad_b = tf.gradients(loss, [kernel, bias])"
   ]
  },
  {
   "cell_type": "code",
   "execution_count": 13,
   "metadata": {},
   "outputs": [
    {
     "data": {
      "text/plain": [
       "(<tf.Tensor 'gradients/LinReg/MatMul_grad/MatMul_1:0' shape=(170, 1) dtype=float32>,\n",
       " <tf.Tensor 'gradients/LinReg/BiasAdd_grad/BiasAddGrad:0' shape=(1,) dtype=float32>)"
      ]
     },
     "execution_count": 13,
     "metadata": {},
     "output_type": "execute_result"
    }
   ],
   "source": [
    "grad_k, grad_b"
   ]
  },
  {
   "cell_type": "code",
   "execution_count": 14,
   "metadata": {},
   "outputs": [],
   "source": [
    "learning_rate = 1e-1"
   ]
  },
  {
   "cell_type": "code",
   "execution_count": 15,
   "metadata": {},
   "outputs": [],
   "source": [
    "update_k = tf.assign_sub(kernel, grad_k * learning_rate)\n",
    "update_b = tf.assign_sub(bias, grad_b * learning_rate)"
   ]
  },
  {
   "cell_type": "markdown",
   "metadata": {},
   "source": [
    "In mathematical terms, what we do is:\n",
    "$$\n",
    "A \\leftarrow A - \\varepsilon \\cdot \\frac{\\partial}{\\partial A} \n",
    "L(\\vec{\\beta}, \\vec{\\vartheta},  \\vec{A}, \\vec{B}, C)\n",
    "$$\n",
    "\n",
    "$$\n",
    "B \\leftarrow B - \\varepsilon \\cdot \\frac{\\partial}{\\partial B} \n",
    "L(\\vec{\\beta}, \\vec{\\vartheta},  \\vec{A}, \\vec{B}, C)\n",
    "$$\n",
    "\n",
    "$$\n",
    "C \\leftarrow C - \\varepsilon \\cdot \\frac{\\partial}{\\partial C} \n",
    "L(\\vec{\\beta}, \\vec{\\vartheta},  \\vec{A}, \\vec{B}, C)\n",
    "$$\n",
    "\n",
    "with $A$,$B$ being the *weight* parameters for $\\beta_i$ and $\\vartheta_i$, resp., $\\varepsilon$ being the learning rate, and\n",
    "$L$ being the mean squared error ```loss``` as defined above. Computationally, evaluating ```update_k``` will have the *side effect* of changing the value of variables ```A``` and ```B``` and ```update_b``` will do that with ```C```.\n",
    "\n",
    "In short: We tweek all parameters with the help of their respective gradients."
   ]
  },
  {
   "cell_type": "markdown",
   "metadata": {},
   "source": [
    "Now, all we need to do is continously evaluate the ```update_b``` and ```update_k``` tensors and take note of the monotonously decreasing loss.\n",
    "\n",
    "Remember: The loss is the difference between the prediction and the *reality*, the smaller it is, the better is my hypothesis."
   ]
  },
  {
   "cell_type": "code",
   "execution_count": 16,
   "metadata": {},
   "outputs": [
    {
     "name": "stdout",
     "output_type": "stream",
     "text": [
      "426.14767\n",
      "427.7027\n",
      "28.545399\n",
      "21.317753\n",
      "18.481808\n",
      "15.244109\n",
      "12.803379\n",
      "10.358871\n",
      "9.406354\n",
      "8.6732435\n",
      "9.136214\n",
      "7.63452\n"
     ]
    }
   ],
   "source": [
    "init = tf.global_variables_initializer()\n",
    "with tf.Session() as sess:\n",
    "    sess.run(init)\n",
    "    l = sess.run(loss)\n",
    "    print(l)\n",
    "    for i in range(101):\n",
    "        l, k, b, _, _ = sess.run([loss, kernel, bias, update_b, update_k])\n",
    "        if i % 10 == 0:\n",
    "            print(l)"
   ]
  },
  {
   "cell_type": "markdown",
   "metadata": {},
   "source": [
    "### Using Optimizers\n",
    "Typically in Tensorflow, we don't do the gradient update ourselves. That's done by a special breed called *optimizers*. And some of them are particularly efficient in certain areas. As an example, we see the adaptive-momentum *ADAM* optimizer below. The inner workings of it are subject to ML lessions, but if you're too curious to stop here, the following link leads you to this well-known publication.\n",
    "\n",
    "[Kingma, Ba 2014 - Adam: A Method for Stochastic Optimization](https://arxiv.org/abs/1412.6980)"
   ]
  },
  {
   "cell_type": "code",
   "execution_count": 17,
   "metadata": {},
   "outputs": [],
   "source": [
    "features, measured_humidity = train_input_fn()\n",
    "my_input_layer = input_layer(features)\n",
    "\n",
    "linreg = tf.layers.Dense(name=\"LinReg\", units=1)\n",
    "hypothesis=linreg(my_input_layer)\n",
    "\n",
    "loss = tf.reduce_mean((hypothesis-measured_humidity)**2)"
   ]
  },
  {
   "cell_type": "code",
   "execution_count": 18,
   "metadata": {},
   "outputs": [],
   "source": [
    "optimizer = tf.train.AdamOptimizer(learning_rate=1e-0)\n",
    "train = optimizer.minimize(loss)"
   ]
  },
  {
   "cell_type": "code",
   "execution_count": 19,
   "metadata": {},
   "outputs": [
    {
     "name": "stdout",
     "output_type": "stream",
     "text": [
      "410.35303\n",
      "3.427556\n"
     ]
    }
   ],
   "source": [
    "init = tf.global_variables_initializer()\n",
    "with tf.Session() as sess:\n",
    "    sess.run(init)\n",
    "    l = sess.run(loss)\n",
    "    print(l)\n",
    "    for i in range(100):\n",
    "        l, k, b, _ = sess.run([loss, kernel, bias, train])\n",
    "    print(l)"
   ]
  },
  {
   "cell_type": "code",
   "execution_count": null,
   "metadata": {},
   "outputs": [],
   "source": []
  }
 ],
 "metadata": {
  "kernelspec": {
   "display_name": "Python 3",
   "language": "python",
   "name": "python3"
  },
  "language_info": {
   "codemirror_mode": {
    "name": "ipython",
    "version": 3
   },
   "file_extension": ".py",
   "mimetype": "text/x-python",
   "name": "python",
   "nbconvert_exporter": "python",
   "pygments_lexer": "ipython3",
   "version": "3.6.7"
  }
 },
 "nbformat": 4,
 "nbformat_minor": 2
}
