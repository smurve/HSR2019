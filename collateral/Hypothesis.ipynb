{
 "cells": [
  {
   "cell_type": "code",
   "execution_count": 1,
   "metadata": {},
   "outputs": [
    {
     "data": {
      "text/plain": [
       "'1.13.1'"
      ]
     },
     "execution_count": 1,
     "metadata": {},
     "output_type": "execute_result"
    }
   ],
   "source": [
    "from training_functions import make_tfr_input_fn\n",
    "import tensorflow as tf\n",
    "tf.__version__"
   ]
  },
  {
   "cell_type": "markdown",
   "metadata": {},
   "source": [
    "Take the file pattern from [Beam_Pipelines.ipynb](Beam_Pipelines.ipynb):"
   ]
  },
  {
   "cell_type": "code",
   "execution_count": 2,
   "metadata": {},
   "outputs": [
    {
     "data": {
      "text/plain": [
       "'..\\\\temp\\\\training.tfr-*'"
      ]
     },
     "execution_count": 2,
     "metadata": {},
     "output_type": "execute_result"
    }
   ],
   "source": [
    "with open('temp_dir.txt') as file:\n",
    "    temp_dir = file.read()\n",
    "import os\n",
    "file_pattern = os.path.join(temp_dir, \"training.tfr-*\")\n",
    "file_pattern"
   ]
  },
  {
   "cell_type": "markdown",
   "metadata": {},
   "source": [
    "When we call ```train_input_fn```, we'll get a tensor that iterates through the training files and gets a new batch of records out of it each time it is being evaluated. In the end we will pass ```train_input_fn``` to the estimator, so that it can create the computational graph for the input stream within its own session and graph context."
   ]
  },
  {
   "cell_type": "code",
   "execution_count": 3,
   "metadata": {},
   "outputs": [],
   "source": [
    "train_input_fn = make_tfr_input_fn(\n",
    "    filename_pattern=file_pattern,\n",
    "    batch_size=1000, \n",
    "    options={'num_epochs': None,  # repeat infinitely\n",
    "             'shuffle_buffer_size': 1000,\n",
    "             'prefetch_buffer_size': 1000,\n",
    "             'reader_num_threads': 10,\n",
    "             'parser_num_threads': 10,\n",
    "             'sloppy_ordering': True,\n",
    "             'distribute': False})"
   ]
  },
  {
   "cell_type": "markdown",
   "metadata": {},
   "source": [
    "---\n",
    "Here, we take the tensors that provide the input stream and create an input layer from it, like described in detail in [Input_Functions.ipynb](Input_Functions.ipynb). Then we create a single ```Dense``` layer, that in essence provides the hypothesis function - a linear regression model for predicting the humidity from the the full $170$-dimensional input:\n",
    "\n",
    "$$\n",
    "h(\\beta_1, \\beta_2, \\vartheta_1, \\vartheta_2, \\dots, \\vartheta_{168} ) \n",
    "= (A_1, A_2, B_1, B_2, \\dots, B_{168}) \\cdot\n",
    "\\left( \n",
    "\\begin {array} {c}\n",
    "\\beta_1 \\\\\n",
    "\\beta_2 \\\\\n",
    "\\vartheta_1 \\\\\n",
    "\\vartheta_2 \\\\\n",
    "\\dots \\\\\n",
    "\\vartheta_{168} \n",
    "\\end{array}\n",
    "\\right) + C\n",
    "$$\n",
    "\n",
    "$\\vartheta_i$ are the components of the one-hot encoded $168$-dimensional vector for the hour-of-the-week."
   ]
  },
  {
   "cell_type": "code",
   "execution_count": 4,
   "metadata": {},
   "outputs": [
    {
     "name": "stdout",
     "output_type": "stream",
     "text": [
      "WARNING:tensorflow:From C:\\Users\\wgi\\AppData\\Local\\anaconda3\\envs\\hsr3\\lib\\site-packages\\tensorflow\\python\\feature_column\\feature_column.py:205: NumericColumn._get_dense_tensor (from tensorflow.python.feature_column.feature_column_v2) is deprecated and will be removed after 2018-11-30.\n",
      "Instructions for updating:\n",
      "The old _FeatureColumn APIs are being deprecated. Please use the new FeatureColumn APIs instead.\n",
      "WARNING:tensorflow:From C:\\Users\\wgi\\AppData\\Local\\anaconda3\\envs\\hsr3\\lib\\site-packages\\tensorflow\\python\\feature_column\\feature_column.py:2121: NumericColumn._transform_feature (from tensorflow.python.feature_column.feature_column_v2) is deprecated and will be removed after 2018-11-30.\n",
      "Instructions for updating:\n",
      "The old _FeatureColumn APIs are being deprecated. Please use the new FeatureColumn APIs instead.\n",
      "WARNING:tensorflow:From C:\\Users\\wgi\\AppData\\Local\\anaconda3\\envs\\hsr3\\lib\\site-packages\\tensorflow\\python\\feature_column\\feature_column_v2.py:2703: to_float (from tensorflow.python.ops.math_ops) is deprecated and will be removed in a future version.\n",
      "Instructions for updating:\n",
      "Use tf.cast instead.\n",
      "WARNING:tensorflow:From C:\\Users\\wgi\\AppData\\Local\\anaconda3\\envs\\hsr3\\lib\\site-packages\\tensorflow\\python\\feature_column\\feature_column.py:206: NumericColumn._variable_shape (from tensorflow.python.feature_column.feature_column_v2) is deprecated and will be removed after 2018-11-30.\n",
      "Instructions for updating:\n",
      "The old _FeatureColumn APIs are being deprecated. Please use the new FeatureColumn APIs instead.\n",
      "WARNING:tensorflow:From C:\\Users\\wgi\\AppData\\Local\\anaconda3\\envs\\hsr3\\lib\\site-packages\\tensorflow\\python\\feature_column\\feature_column.py:205: IndicatorColumn._get_dense_tensor (from tensorflow.python.feature_column.feature_column_v2) is deprecated and will be removed after 2018-11-30.\n",
      "Instructions for updating:\n",
      "The old _FeatureColumn APIs are being deprecated. Please use the new FeatureColumn APIs instead.\n",
      "WARNING:tensorflow:From C:\\Users\\wgi\\AppData\\Local\\anaconda3\\envs\\hsr3\\lib\\site-packages\\tensorflow\\python\\feature_column\\feature_column.py:2121: IndicatorColumn._transform_feature (from tensorflow.python.feature_column.feature_column_v2) is deprecated and will be removed after 2018-11-30.\n",
      "Instructions for updating:\n",
      "The old _FeatureColumn APIs are being deprecated. Please use the new FeatureColumn APIs instead.\n",
      "WARNING:tensorflow:From C:\\Users\\wgi\\AppData\\Local\\anaconda3\\envs\\hsr3\\lib\\site-packages\\tensorflow\\python\\feature_column\\feature_column_v2.py:4295: CrossedColumn._get_sparse_tensors (from tensorflow.python.feature_column.feature_column_v2) is deprecated and will be removed after 2018-11-30.\n",
      "Instructions for updating:\n",
      "The old _FeatureColumn APIs are being deprecated. Please use the new FeatureColumn APIs instead.\n",
      "WARNING:tensorflow:From C:\\Users\\wgi\\AppData\\Local\\anaconda3\\envs\\hsr3\\lib\\site-packages\\tensorflow\\python\\feature_column\\feature_column.py:2121: CrossedColumn._transform_feature (from tensorflow.python.feature_column.feature_column_v2) is deprecated and will be removed after 2018-11-30.\n",
      "Instructions for updating:\n",
      "The old _FeatureColumn APIs are being deprecated. Please use the new FeatureColumn APIs instead.\n",
      "WARNING:tensorflow:From C:\\Users\\wgi\\AppData\\Local\\anaconda3\\envs\\hsr3\\lib\\site-packages\\tensorflow\\python\\feature_column\\feature_column_v2.py:4115: IdentityCategoricalColumn._get_sparse_tensors (from tensorflow.python.feature_column.feature_column_v2) is deprecated and will be removed after 2018-11-30.\n",
      "Instructions for updating:\n",
      "The old _FeatureColumn APIs are being deprecated. Please use the new FeatureColumn APIs instead.\n",
      "WARNING:tensorflow:From C:\\Users\\wgi\\AppData\\Local\\anaconda3\\envs\\hsr3\\lib\\site-packages\\tensorflow\\python\\feature_column\\feature_column.py:2121: IdentityCategoricalColumn._transform_feature (from tensorflow.python.feature_column.feature_column_v2) is deprecated and will be removed after 2018-11-30.\n",
      "Instructions for updating:\n",
      "The old _FeatureColumn APIs are being deprecated. Please use the new FeatureColumn APIs instead.\n",
      "WARNING:tensorflow:From C:\\Users\\wgi\\AppData\\Local\\anaconda3\\envs\\hsr3\\lib\\site-packages\\tensorflow\\python\\feature_column\\feature_column_v2.py:3828: to_int64 (from tensorflow.python.ops.math_ops) is deprecated and will be removed in a future version.\n",
      "Instructions for updating:\n",
      "Use tf.cast instead.\n",
      "WARNING:tensorflow:From C:\\Users\\wgi\\AppData\\Local\\anaconda3\\envs\\hsr3\\lib\\site-packages\\tensorflow\\python\\ops\\control_flow_ops.py:3632: colocate_with (from tensorflow.python.framework.ops) is deprecated and will be removed in a future version.\n",
      "Instructions for updating:\n",
      "Colocations handled automatically by placer.\n",
      "WARNING:tensorflow:From C:\\Users\\wgi\\AppData\\Local\\anaconda3\\envs\\hsr3\\lib\\site-packages\\tensorflow\\python\\feature_column\\feature_column_v2.py:4266: IndicatorColumn._variable_shape (from tensorflow.python.feature_column.feature_column_v2) is deprecated and will be removed after 2018-11-30.\n",
      "Instructions for updating:\n",
      "The old _FeatureColumn APIs are being deprecated. Please use the new FeatureColumn APIs instead.\n",
      "WARNING:tensorflow:From C:\\Users\\wgi\\AppData\\Local\\anaconda3\\envs\\hsr3\\lib\\site-packages\\tensorflow\\python\\feature_column\\feature_column_v2.py:4321: CrossedColumn._num_buckets (from tensorflow.python.feature_column.feature_column_v2) is deprecated and will be removed after 2018-11-30.\n",
      "Instructions for updating:\n",
      "The old _FeatureColumn APIs are being deprecated. Please use the new FeatureColumn APIs instead.\n"
     ]
    }
   ],
   "source": [
    "from training_functions import input_layer\n",
    "features, measured_humidity = train_input_fn()\n",
    "my_input_layer = input_layer(features)\n",
    "\n",
    "linreg = tf.layers.Dense(name=\"LinReg\", units=1)\n",
    "hypothesis=linreg(my_input_layer)"
   ]
  },
  {
   "cell_type": "code",
   "execution_count": 5,
   "metadata": {},
   "outputs": [
    {
     "data": {
      "text/plain": [
       "(<tf.Tensor 'input_layer/concat:0' shape=(1000, 170) dtype=float32>,\n",
       " <tf.Tensor 'LinReg/BiasAdd:0' shape=(1000, 1) dtype=float32>)"
      ]
     },
     "execution_count": 5,
     "metadata": {},
     "output_type": "execute_result"
    }
   ],
   "source": [
    "my_input_layer, hypothesis"
   ]
  },
  {
   "cell_type": "markdown",
   "metadata": {},
   "source": [
    "When we evaluate the hypothesis, the computational graph will now *magically* draw on batch of 1000 records from the given input file, pass it through to the hypothesis function to arrive at 1000 1-dimensional predicions - one prediction for each of the records in the current batch."
   ]
  },
  {
   "cell_type": "code",
   "execution_count": 6,
   "metadata": {},
   "outputs": [],
   "source": [
    "init = tf.global_variables_initializer()\n",
    "with tf.Session() as sess:\n",
    "    sess.run(init)\n",
    "    out1 = sess.run(hypothesis)"
   ]
  },
  {
   "cell_type": "code",
   "execution_count": 7,
   "metadata": {},
   "outputs": [
    {
     "data": {
      "text/plain": [
       "(1000, 1)"
      ]
     },
     "execution_count": 7,
     "metadata": {},
     "output_type": "execute_result"
    }
   ],
   "source": [
    "out1.shape"
   ]
  },
  {
   "cell_type": "markdown",
   "metadata": {},
   "source": [
    "---\n",
    "We can actually see the variables used in the ```Dense``` layer used in the hyptothesis:"
   ]
  },
  {
   "cell_type": "code",
   "execution_count": 8,
   "metadata": {},
   "outputs": [],
   "source": [
    "variables = hypothesis.graph.get_collection(tf.GraphKeys.TRAINABLE_VARIABLES)\n",
    "kernel, bias = variables[:2]"
   ]
  },
  {
   "cell_type": "code",
   "execution_count": 9,
   "metadata": {},
   "outputs": [
    {
     "data": {
      "text/plain": [
       "array([[-0.09996174,  0.18498936, -0.02088721,  0.18567908, -0.03985716,\n",
       "        -0.03939864,  0.18000826, -0.17149279,  0.18659434,  0.07874173,\n",
       "        -0.08257198,  0.03569768,  0.11259302,  0.01612276,  0.17634994,\n",
       "        -0.1447494 ,  0.17123964,  0.04576983,  0.17471123,  0.04281507,\n",
       "         0.07401386, -0.05353193,  0.01836312, -0.16658872],\n",
       "       [ 0.1146076 ,  0.0257003 ,  0.06082971, -0.01690783,  0.08064756,\n",
       "         0.00305197,  0.003962  ,  0.02751081,  0.02400126, -0.18255758,\n",
       "        -0.16043682, -0.17741057, -0.09135248, -0.05710812, -0.06836022,\n",
       "         0.02559347,  0.07041609,  0.05971777, -0.13828047, -0.10534777,\n",
       "        -0.15142168,  0.04992798, -0.05551413, -0.00518358],\n",
       "       [ 0.05759223,  0.17649117, -0.173442  , -0.14630455, -0.1028863 ,\n",
       "         0.01588976, -0.03636423, -0.07421666, -0.01395434,  0.09237903,\n",
       "         0.18496037,  0.08810267,  0.04195471, -0.1481863 ,  0.07314527,\n",
       "        -0.17767358,  0.14737037, -0.13019851, -0.08374015, -0.07485636,\n",
       "        -0.08693133,  0.11958605,  0.05734968, -0.17598164],\n",
       "       [ 0.09560436,  0.1541245 , -0.13604029, -0.16921052, -0.10604554,\n",
       "         0.11691374,  0.04397637, -0.07440057,  0.18258274,  0.0260677 ,\n",
       "         0.02210034, -0.12932664, -0.00601488,  0.08994618,  0.1438576 ,\n",
       "        -0.17361212,  0.05646425,  0.05130765,  0.17914015,  0.06137712,\n",
       "         0.05770934, -0.08406327, -0.00118388, -0.02655852],\n",
       "       [-0.04159293, -0.11938884, -0.14159374,  0.04069129,  0.01864734,\n",
       "         0.15303278, -0.05329868, -0.18155041, -0.03009707,  0.00939609,\n",
       "        -0.11165848,  0.12425196,  0.09440455, -0.17394961,  0.06600526,\n",
       "         0.01505986,  0.08133796,  0.02227846, -0.09475547,  0.13959524,\n",
       "        -0.07360196, -0.17409703, -0.0425536 , -0.00082143],\n",
       "       [-0.03061606,  0.06793952,  0.04635412, -0.07722602,  0.08022773,\n",
       "        -0.09054842,  0.1243996 , -0.17654854,  0.16925567, -0.1817759 ,\n",
       "        -0.04266377,  0.18507877,  0.10385957, -0.08346152,  0.02384338,\n",
       "         0.02535708,  0.05241905,  0.08482835,  0.05324419,  0.1165804 ,\n",
       "        -0.04316504, -0.07593981,  0.00038658,  0.05410676],\n",
       "       [ 0.10635141,  0.04776201,  0.15334737, -0.02568975,  0.10124344,\n",
       "         0.1588502 ,  0.18373147, -0.02699097, -0.02222034, -0.15978108,\n",
       "         0.09093738, -0.15379308,  0.12957594,  0.07498744,  0.04102275,\n",
       "        -0.10870472, -0.15006474, -0.1475135 ,  0.03060144, -0.01522812,\n",
       "        -0.16702835,  0.00610286,  0.08768964, -0.15614183]],\n",
       "      dtype=float32)"
      ]
     },
     "execution_count": 9,
     "metadata": {},
     "output_type": "execute_result"
    }
   ],
   "source": [
    "with tf.Session() as sess:\n",
    "    sess.run(init)\n",
    "    A170 = sess.run(kernel)\n",
    "A170[2:].reshape([7,24])"
   ]
  },
  {
   "cell_type": "markdown",
   "metadata": {},
   "source": [
    "---\n",
    "Now, we can manually adjust these parameters such that the predictions of the hypothesis are as close as possible to the humidity values that have actually been measured. For that, we compute the sum of the squared differences between each prediction and the measured humidity. "
   ]
  },
  {
   "cell_type": "code",
   "execution_count": 10,
   "metadata": {},
   "outputs": [
    {
     "data": {
      "text/plain": [
       "(<tf.Tensor 'IteratorGetNext:4' shape=(1000, 1) dtype=float32>,\n",
       " <tf.Tensor 'LinReg/BiasAdd:0' shape=(1000, 1) dtype=float32>)"
      ]
     },
     "execution_count": 10,
     "metadata": {},
     "output_type": "execute_result"
    }
   ],
   "source": [
    "measured_humidity, hypothesis"
   ]
  },
  {
   "cell_type": "code",
   "execution_count": 11,
   "metadata": {},
   "outputs": [
    {
     "data": {
      "text/plain": [
       "<tf.Tensor 'Mean:0' shape=() dtype=float32>"
      ]
     },
     "execution_count": 11,
     "metadata": {},
     "output_type": "execute_result"
    }
   ],
   "source": [
    "loss = tf.reduce_mean((hypothesis-measured_humidity)**2)\n",
    "loss"
   ]
  },
  {
   "cell_type": "markdown",
   "metadata": {},
   "source": [
    "One of the strengths of using an ML framework is that it usually provides means to easily compute gradients. With Tensorflow, it's as easy as the following:"
   ]
  },
  {
   "cell_type": "code",
   "execution_count": 12,
   "metadata": {},
   "outputs": [],
   "source": [
    "grad_k, grad_b = tf.gradients(loss, [kernel, bias])"
   ]
  },
  {
   "cell_type": "code",
   "execution_count": 13,
   "metadata": {},
   "outputs": [
    {
     "data": {
      "text/plain": [
       "(<tf.Tensor 'gradients/LinReg/MatMul_grad/MatMul_1:0' shape=(170, 1) dtype=float32>,\n",
       " <tf.Tensor 'gradients/LinReg/BiasAdd_grad/BiasAddGrad:0' shape=(1,) dtype=float32>)"
      ]
     },
     "execution_count": 13,
     "metadata": {},
     "output_type": "execute_result"
    }
   ],
   "source": [
    "grad_k, grad_b"
   ]
  },
  {
   "cell_type": "code",
   "execution_count": 14,
   "metadata": {},
   "outputs": [],
   "source": [
    "learning_rate = 1e-1"
   ]
  },
  {
   "cell_type": "code",
   "execution_count": 15,
   "metadata": {},
   "outputs": [],
   "source": [
    "update_k = tf.assign_sub(kernel, grad_k * learning_rate)\n",
    "update_b = tf.assign_sub(bias, grad_b * learning_rate)"
   ]
  },
  {
   "cell_type": "markdown",
   "metadata": {},
   "source": [
    "In mathematical terms, what we do is:\n",
    "$$\n",
    "A \\leftarrow A - \\varepsilon \\cdot \\frac{\\partial}{\\partial A} \n",
    "L(\\vec{\\beta}, \\vec{\\vartheta},  \\vec{A}, \\vec{B}, C)\n",
    "$$\n",
    "\n",
    "$$\n",
    "B \\leftarrow B - \\varepsilon \\cdot \\frac{\\partial}{\\partial B} \n",
    "L(\\vec{\\beta}, \\vec{\\vartheta},  \\vec{A}, \\vec{B}, C)\n",
    "$$\n",
    "\n",
    "$$\n",
    "C \\leftarrow C - \\varepsilon \\cdot \\frac{\\partial}{\\partial C} \n",
    "L(\\vec{\\beta}, \\vec{\\vartheta},  \\vec{A}, \\vec{B}, C)\n",
    "$$\n",
    "\n",
    "with $A$,$B$ being the *weight* parameters for $\\beta_i$ and $\\vartheta_i$, resp., $\\varepsilon$ being the learning rate, and\n",
    "$L$ being the mean squared error ```loss``` as defined above. Computationally, evaluating ```update_k``` will have the *side effect* of changing the value of variables ```A``` and ```B``` and ```update_b``` will do that with ```C```.\n",
    "\n",
    "In short: We tweek all parameters with the help of their respective gradients."
   ]
  },
  {
   "cell_type": "markdown",
   "metadata": {},
   "source": [
    "Now, all we need to do is continously evaluate the ```update_b``` and ```update_k``` tensors and take note of the monotonously decreasing loss.\n",
    "\n",
    "Remember: The loss is the difference between the prediction and the *reality*, the smaller it is, the better is my hypothesis."
   ]
  },
  {
   "cell_type": "code",
   "execution_count": 16,
   "metadata": {},
   "outputs": [
    {
     "name": "stdout",
     "output_type": "stream",
     "text": [
      "420.54626\n",
      "417.5223\n",
      "26.094328\n",
      "21.957006\n",
      "15.84974\n",
      "14.193762\n",
      "12.404402\n",
      "10.750401\n",
      "9.891429\n",
      "9.391652\n",
      "9.52056\n",
      "8.086639\n"
     ]
    }
   ],
   "source": [
    "init = tf.global_variables_initializer()\n",
    "with tf.Session() as sess:\n",
    "    sess.run(init)\n",
    "    l = sess.run(loss)\n",
    "    print(l)\n",
    "    for i in range(101):\n",
    "        l, k, b, _, _ = sess.run([loss, kernel, bias, update_b, update_k])\n",
    "        if i % 10 == 0:\n",
    "            print(l)"
   ]
  },
  {
   "cell_type": "markdown",
   "metadata": {},
   "source": [
    "### Using Optimizers\n",
    "Typically in Tensorflow, we don't do the gradient update ourselves. That's done by a special breed called *optimizers*. And some of them are particularly efficient in certain areas. As an example, we see the adaptive-momentum *ADAM* optimizer below. The inner workings of it are subject to ML lessions, but if you're too curious to stop here, the following link leads you to this well-known publication.\n",
    "\n",
    "[Kingma, Ba 2014 - Adam: A Method for Stochastic Optimization](https://arxiv.org/abs/1412.6980)"
   ]
  },
  {
   "cell_type": "code",
   "execution_count": 17,
   "metadata": {},
   "outputs": [],
   "source": [
    "features, measured_humidity = train_input_fn()\n",
    "my_input_layer = input_layer(features)\n",
    "\n",
    "linreg = tf.layers.Dense(name=\"LinReg\", units=1)\n",
    "hypothesis=linreg(my_input_layer)\n",
    "\n",
    "loss = tf.reduce_mean((hypothesis-measured_humidity)**2)"
   ]
  },
  {
   "cell_type": "code",
   "execution_count": 18,
   "metadata": {},
   "outputs": [],
   "source": [
    "optimizer = tf.train.AdamOptimizer(learning_rate=1e-0)\n",
    "train = optimizer.minimize(loss)"
   ]
  },
  {
   "cell_type": "code",
   "execution_count": 19,
   "metadata": {},
   "outputs": [
    {
     "name": "stdout",
     "output_type": "stream",
     "text": [
      "428.23544\n",
      "3.5086832\n"
     ]
    }
   ],
   "source": [
    "init = tf.global_variables_initializer()\n",
    "with tf.Session() as sess:\n",
    "    sess.run(init)\n",
    "    l = sess.run(loss)\n",
    "    print(l)\n",
    "    for i in range(100):\n",
    "        l, k, b, _ = sess.run([loss, kernel, bias, train])\n",
    "    print(l)"
   ]
  },
  {
   "cell_type": "code",
   "execution_count": null,
   "metadata": {},
   "outputs": [],
   "source": []
  }
 ],
 "metadata": {
  "kernelspec": {
   "display_name": "Python 3",
   "language": "python",
   "name": "python3"
  },
  "language_info": {
   "codemirror_mode": {
    "name": "ipython",
    "version": 3
   },
   "file_extension": ".py",
   "mimetype": "text/x-python",
   "name": "python",
   "nbconvert_exporter": "python",
   "pygments_lexer": "ipython3",
   "version": "3.7.3"
  }
 },
 "nbformat": 4,
 "nbformat_minor": 2
}
