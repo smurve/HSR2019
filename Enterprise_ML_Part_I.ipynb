{
 "cells": [
  {
   "cell_type": "markdown",
   "metadata": {
    "slideshow": {
     "slide_type": "slide"
    }
   },
   "source": [
    "![Zühlke](./images/zuehlke_logo_rgb_small.jpg)"
   ]
  },
  {
   "cell_type": "markdown",
   "metadata": {
    "slideshow": {
     "slide_type": "skip"
    }
   },
   "source": [
    "---"
   ]
  },
  {
   "cell_type": "markdown",
   "metadata": {
    "slideshow": {
     "slide_type": "slide"
    }
   },
   "source": [
    "# Who am I and why am I here?\n",
    "\n",
    "I'm Wolfgang and I work for Zühlke's Data Analytics Team...\n",
    "\n",
    "...and we're always looking for data engineering talents.\n",
    "\n",
    "I have been here before: Enterprise Computing and \"Fast and Furious\".\n",
    "\n",
    "You (so I've been told) are curious to hear real-life stories.\n",
    "\n",
    "It appears we have a deal!"
   ]
  },
  {
   "cell_type": "markdown",
   "metadata": {
    "slideshow": {
     "slide_type": "skip"
    }
   },
   "source": [
    "---"
   ]
  },
  {
   "cell_type": "markdown",
   "metadata": {
    "slideshow": {
     "slide_type": "slide"
    }
   },
   "source": [
    "# Resources:\n",
    "\n",
    "### https://github.com/smurve/HSR2019\n",
    "\n",
    "### https://github.com/Project-Ellie/home-in-time"
   ]
  },
  {
   "cell_type": "markdown",
   "metadata": {
    "slideshow": {
     "slide_type": "skip"
    }
   },
   "source": [
    "---"
   ]
  },
  {
   "cell_type": "markdown",
   "metadata": {
    "slideshow": {
     "slide_type": "slide"
    }
   },
   "source": [
    "# Data Engineering is Software Engineering\n",
    "\n",
    "Data engineers write software that deals with data.\n",
    "\n",
    "Data engineers are in high demand.\n",
    "\n",
    "Data engineers sometimes get into ML, too!\n",
    "\n",
    "Data engineer / ML engineer / Data scientist - ???"
   ]
  },
  {
   "cell_type": "markdown",
   "metadata": {
    "slideshow": {
     "slide_type": "skip"
    }
   },
   "source": [
    "---"
   ]
  },
  {
   "cell_type": "markdown",
   "metadata": {
    "slideshow": {
     "slide_type": "slide"
    }
   },
   "source": [
    "# Skills of a Data Engineer\n",
    "- Knows traditional DBs and SQL well\n",
    "- Applies data visualization\n",
    "- Has a basic understanding of statistics\n",
    "- Has a good idea (if not more) about ML\n",
    "- Can write distributable, efficient code\n",
    "- Wants to automate everything\n",
    "- Is always security-aware (GDPR, etc)"
   ]
  },
  {
   "cell_type": "markdown",
   "metadata": {
    "slideshow": {
     "slide_type": "skip"
    }
   },
   "source": [
    "---"
   ]
  },
  {
   "cell_type": "markdown",
   "metadata": {
    "slideshow": {
     "slide_type": "slide"
    }
   },
   "source": [
    "### [The hardest part of ML is not ML!](https://papers.nips.cc/paper/5656-hidden-technical-debt-in-machine-learning-systems.pdf)\n",
    "\n",
    "<img src=\"images/ML_a_small_fraction.png\" style=\"width: 700px;\"/>\n"
   ]
  },
  {
   "cell_type": "markdown",
   "metadata": {
    "slideshow": {
     "slide_type": "skip"
    }
   },
   "source": [
    "---"
   ]
  },
  {
   "cell_type": "markdown",
   "metadata": {
    "slideshow": {
     "slide_type": "slide"
    }
   },
   "source": [
    "# What do you bring to the table already?\n",
    "- Python?\n",
    "- Tensorflow?\n",
    "- TF 2.0 alpha?\n",
    "- Lua, R, Julia, Torch, etc?\n",
    "- Big data?\n",
    "- Machine Learning?\n",
    "- Deep Learning?"
   ]
  },
  {
   "cell_type": "markdown",
   "metadata": {
    "slideshow": {
     "slide_type": "skip"
    }
   },
   "source": [
    "---"
   ]
  },
  {
   "cell_type": "markdown",
   "metadata": {
    "slideshow": {
     "slide_type": "slide"
    }
   },
   "source": [
    "# Our project: \"home in time\"\n",
    "### Predicting flight delays\n",
    "https://github.com/Project-Ellie/home-in-time\n",
    "\n",
    "We discuss the project and stray away into different topics.\n",
    "\n",
    "Hardly any subject is in-depth. \n",
    "\n",
    "Theoretical background (if any) through references.\n",
    "\n",
    "More in-depth material in additional Jupyter notebooks."
   ]
  },
  {
   "cell_type": "markdown",
   "metadata": {
    "slideshow": {
     "slide_type": "skip"
    }
   },
   "source": [
    "---"
   ]
  },
  {
   "cell_type": "markdown",
   "metadata": {
    "slideshow": {
     "slide_type": "slide"
    }
   },
   "source": [
    "# Flight data from Atlanta\n",
    "<img src=\"images/some-flight-data.png\" style=\"width: 700px;\"/>"
   ]
  },
  {
   "cell_type": "markdown",
   "metadata": {
    "slideshow": {
     "slide_type": "skip"
    }
   },
   "source": [
    "---"
   ]
  },
  {
   "cell_type": "markdown",
   "metadata": {
    "slideshow": {
     "slide_type": "slide"
    }
   },
   "source": [
    "# Predict flight delays - Really?\n",
    "Flight delays are - unfortunately - unpredictable.\n",
    "\n",
    "But still there are patterns: Wheather, airline reliability...\n",
    "\n",
    "But flight delays have a fat tail:\n",
    "\n",
    "<img src=\"images/fat_tails.png\" style=\"width: 600px;\"/>"
   ]
  },
  {
   "cell_type": "markdown",
   "metadata": {
    "slideshow": {
     "slide_type": "skip"
    }
   },
   "source": [
    "---"
   ]
  },
  {
   "cell_type": "markdown",
   "metadata": {
    "slideshow": {
     "slide_type": "slide"
    }
   },
   "source": [
    "# Predict flight delays - Really?\n",
    "\n",
    "\"Smart\" prediction: display the probability distribution. [See *collateral*](https://github.com/smurve/HSR2019/blob/master/collateral/Fat_Tails.ipynb)\n",
    "\n",
    "\n",
    "<img src=\"images/probability_distribution.png\" style=\"width: 600px;\"/>"
   ]
  },
  {
   "cell_type": "markdown",
   "metadata": {
    "slideshow": {
     "slide_type": "skip"
    }
   },
   "source": [
    "---"
   ]
  },
  {
   "cell_type": "markdown",
   "metadata": {
    "slideshow": {
     "slide_type": "slide"
    }
   },
   "source": [
    "# Data Exploration\n",
    "- Play with billions of records?\n",
    "- We need a fast analytical database.\n",
    "- At any scale.\n",
    "- We need SQL, still!\n",
    "- Only a world-class cloud allows for (almost arbitrary) up-scaling."
   ]
  },
  {
   "cell_type": "markdown",
   "metadata": {
    "slideshow": {
     "slide_type": "skip"
    }
   },
   "source": [
    "---"
   ]
  },
  {
   "cell_type": "markdown",
   "metadata": {
    "slideshow": {
     "slide_type": "slide"
    }
   },
   "source": [
    "# Analytical Databases\n",
    "- Amazon Redshift\n",
    "- Google BigQuery\n",
    "- Azure Cosmos DB\n",
    "\n",
    "# Architecture: \n",
    "- Multi-core/distributed query execution\n",
    "- Append-only\n",
    "- Weaker consistency guarantees"
   ]
  },
  {
   "cell_type": "markdown",
   "metadata": {
    "slideshow": {
     "slide_type": "skip"
    }
   },
   "source": [
    "---"
   ]
  },
  {
   "cell_type": "markdown",
   "metadata": {
    "slideshow": {
     "slide_type": "slide"
    }
   },
   "source": [
    "# Exploring Flight data (home-in-time)\n",
    "[00_Data_Exploration](https://github.com/Project-Ellie/home-in-time/blob/master/00_Data_Exploration.ipynb)\n",
    "\n",
    "<img src=\"images/Max_Dep_Delay.png\" style=\"width: 500px\"/>"
   ]
  },
  {
   "cell_type": "markdown",
   "metadata": {
    "slideshow": {
     "slide_type": "skip"
    }
   },
   "source": [
    "---"
   ]
  },
  {
   "cell_type": "markdown",
   "metadata": {
    "slideshow": {
     "slide_type": "slide"
    }
   },
   "source": [
    "# Deployment Architecture\n",
    "\n",
    "<img src=\"images/Deployment_Architecture.png\" style=\"width: 600px;\"/>"
   ]
  },
  {
   "cell_type": "markdown",
   "metadata": {
    "slideshow": {
     "slide_type": "skip"
    }
   },
   "source": [
    "---"
   ]
  },
  {
   "cell_type": "markdown",
   "metadata": {
    "slideshow": {
     "slide_type": "slide"
    }
   },
   "source": [
    "# Training and Prediction\n",
    "<img src=\"images/Training_Prediction.png\" style=\"width: 600px;\"/>"
   ]
  },
  {
   "cell_type": "markdown",
   "metadata": {
    "slideshow": {
     "slide_type": "skip"
    }
   },
   "source": [
    "---"
   ]
  },
  {
   "cell_type": "markdown",
   "metadata": {
    "slideshow": {
     "slide_type": "slide"
    }
   },
   "source": [
    "# Training data\n",
    "- Some models require millions or even billions of training records\n",
    "- Training data needs to be \n",
    " - collected\n",
    " - cleansed\n",
    " - re-formatted\n",
    " - aggregated\n",
    " - preprocessed\n",
    " - combined from different sources"
   ]
  },
  {
   "cell_type": "markdown",
   "metadata": {
    "slideshow": {
     "slide_type": "skip"
    }
   },
   "source": [
    "---"
   ]
  },
  {
   "cell_type": "markdown",
   "metadata": {
    "slideshow": {
     "slide_type": "slide"
    }
   },
   "source": [
    "# Signature and Training Stage\n",
    "- Reproduce all pre-processing steps during prediction!\n",
    "- Failure leads to \"training-serving skew\"\n",
    "\n",
    "<img src=\"images/Signature_vs_Training.png\" style=\"width: 500px\"/>"
   ]
  },
  {
   "cell_type": "markdown",
   "metadata": {
    "slideshow": {
     "slide_type": "skip"
    }
   },
   "source": [
    "---"
   ]
  },
  {
   "cell_type": "markdown",
   "metadata": {
    "slideshow": {
     "slide_type": "slide"
    }
   },
   "source": [
    "# Fast Data Processing with Beam Pipelines\n",
    "- Apache Beam is a de-facto standard\n",
    "- Supports real-time and batch processing with the same code.\n",
    "- Programming model: directed acyclic graphs \n",
    "- Test execution local on any machine\n",
    "- production-scale parallel execution on a cluster\n",
    "- Map/Reduce/Shuffle automatically optimized\n"
   ]
  },
  {
   "cell_type": "markdown",
   "metadata": {
    "slideshow": {
     "slide_type": "skip"
    }
   },
   "source": [
    "---"
   ]
  },
  {
   "cell_type": "markdown",
   "metadata": {
    "slideshow": {
     "slide_type": "slide"
    }
   },
   "source": [
    "# Programming a pipeline "
   ]
  },
  {
   "cell_type": "code",
   "execution_count": null,
   "metadata": {
    "slideshow": {
     "slide_type": "slide"
    }
   },
   "outputs": [],
   "source": [
    "with beam.Pipeline('DirectRunner', PipelineOptions()) as p:\n",
    "\n",
    "    csv_encoder = tft.coders.CsvCoder(ORDERED_TRAINING_COLUMNS, TRAINING_METADATA.schema)    \n",
    "\n",
    "    _ = (p \n",
    "         | 'read_from_csv' >> beam.io.ReadFromText(\n",
    "             file_pattern='../testdata/test.csv', coder=csv_encoder)\n",
    "         \n",
    "         | 'write_to_csv' >> beam.io.WriteToText(\n",
    "             file_path_prefix='./out.csv', coder=csv_encoder)\n",
    "        )\n"
   ]
  },
  {
   "cell_type": "markdown",
   "metadata": {
    "slideshow": {
     "slide_type": "skip"
    }
   },
   "source": [
    "---"
   ]
  },
  {
   "cell_type": "markdown",
   "metadata": {
    "slideshow": {
     "slide_type": "slide"
    }
   },
   "source": [
    "# A Production Beam Pipeline in action\n",
    "<img src=\"images/Dataflow.png\" style=\"width: 600px\"/>"
   ]
  },
  {
   "cell_type": "markdown",
   "metadata": {
    "slideshow": {
     "slide_type": "skip"
    }
   },
   "source": [
    "---"
   ]
  },
  {
   "cell_type": "markdown",
   "metadata": {
    "slideshow": {
     "slide_type": "slide"
    }
   },
   "source": [
    "# Fodder for the Model\n",
    "See: [Input Functions](https://github.com/Project-Ellie/home-in-time/blob/master/03_Input_Functions.ipynb)\n",
    "- Process any number of files\n",
    "- Create a continuous stream of decoded records\n",
    "- Repeat the data stream (epochs)\n",
    "- Shuffle the data to stabilize learning\n",
    "- split the data in efficient batch sizes\n",
    "- automatically iterate over those batches\n",
    "- prefetch data, use multiple threads in parallel\n",
    "- distribute data stream if possible."
   ]
  },
  {
   "cell_type": "markdown",
   "metadata": {
    "slideshow": {
     "slide_type": "skip"
    }
   },
   "source": [
    "---"
   ]
  },
  {
   "cell_type": "markdown",
   "metadata": {
    "slideshow": {
     "slide_type": "slide"
    }
   },
   "source": [
    "# Tensorflow\n",
    "\n",
    "Fundamental concepts: Directed Graphs and Sessions\n",
    "\n",
    "Hardware abstraction and optimal use of GPU/TPU resources\n",
    "\n",
    "Distributable without code chance\n",
    "\n",
    "Fully-featured DL Library\n",
    "\n",
    "We'll learn to use Tensorflow in the exercises"
   ]
  },
  {
   "cell_type": "markdown",
   "metadata": {
    "slideshow": {
     "slide_type": "skip"
    }
   },
   "source": [
    "---"
   ]
  },
  {
   "cell_type": "markdown",
   "metadata": {
    "slideshow": {
     "slide_type": "slide"
    }
   },
   "source": [
    "<img src=\"images/TF_programming_model.png\" style=\"width: 700px\"/>"
   ]
  },
  {
   "cell_type": "markdown",
   "metadata": {
    "slideshow": {
     "slide_type": "skip"
    }
   },
   "source": [
    "---"
   ]
  },
  {
   "cell_type": "markdown",
   "metadata": {
    "slideshow": {
     "slide_type": "slide"
    }
   },
   "source": [
    "# Exercises\n",
    "[Tensorflow introduction](https://github.com/smurve/HSR2019/blob/master/exercises/TF_Introduction.ipynb)"
   ]
  },
  {
   "cell_type": "markdown",
   "metadata": {
    "slideshow": {
     "slide_type": "skip"
    }
   },
   "source": [
    "---"
   ]
  }
 ],
 "metadata": {
  "kernelspec": {
   "display_name": "Python 2",
   "language": "python",
   "name": "python2"
  },
  "language_info": {
   "codemirror_mode": {
    "name": "ipython",
    "version": 2
   },
   "file_extension": ".py",
   "mimetype": "text/x-python",
   "name": "python",
   "nbconvert_exporter": "python",
   "pygments_lexer": "ipython2",
   "version": "2.7.13"
  }
 },
 "nbformat": 4,
 "nbformat_minor": 2
}
